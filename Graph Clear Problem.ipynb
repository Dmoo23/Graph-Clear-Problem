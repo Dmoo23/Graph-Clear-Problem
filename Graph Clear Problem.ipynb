{
  "cells": [
    {
      "cell_type": "code",
      "execution_count": null,
      "metadata": {
        "colab": {
          "base_uri": "https://localhost:8080/"
        },
        "id": "FsvuJpMQY-DH",
        "outputId": "7f3bf20c-9171-44a0-8e58-ca7e3482c79d"
      },
      "outputs": [
        {
          "name": "stdout",
          "output_type": "stream",
          "text": [
            "Mounted at /content/drive\n"
          ]
        }
      ],
      "source": [
        "from google.colab import drive\n",
        "from timeit import default_timer as timer\n",
        "drive.mount('/content/drive')"
      ]
    },
    {
      "cell_type": "markdown",
      "metadata": {
        "id": "O0QRRC4Dl_d8"
      },
      "source": [
        "### Einlesen der Instanzen\n",
        "\n"
      ]
    },
    {
      "cell_type": "code",
      "execution_count": null,
      "metadata": {
        "colab": {
          "base_uri": "https://localhost:8080/"
        },
        "id": "H1mTl-0niqz4",
        "outputId": "81687bbc-241e-49f1-c085-28003089862c"
      },
      "outputs": [
        {
          "name": "stderr",
          "output_type": "stream",
          "text": [
            "/tmp/ipython-input-2-941494749.py:1: DeprecationWarning: module 'sre_constants' is deprecated\n",
            "  from sre_constants import ANY\n"
          ]
        }
      ],
      "source": [
        "from sre_constants import ANY\n",
        "def read(filename):\n",
        "    with open(filename) as f:\n",
        "        line = f.readline().rstrip().split()\n",
        "        n = int(line[0])\n",
        "        line = f.readline().rstrip().split()\n",
        "        node_weights = [int(i) for i in line]\n",
        "        edge_weights = {}\n",
        "        for i in range(n):\n",
        "            line = [int(w) for w in f.readline().rstrip().split()]\n",
        "            for j, w in enumerate(line):\n",
        "                if j >= 0 and w >= 0:\n",
        "                    edge_weights[i, j] = w\n",
        "        return n, node_weights, edge_weights"
      ]
    },
    {
      "cell_type": "markdown",
      "metadata": {
        "id": "mNSfRjzw3k2o"
      },
      "source": [
        "### Graph erstellen"
      ]
    },
    {
      "cell_type": "code",
      "execution_count": null,
      "metadata": {
        "id": "1cernNn43kEo"
      },
      "outputs": [],
      "source": [
        "import networkx as nx\n",
        "def erstelle_graph(instance):\n",
        "  n, node_weights, edge_weights = instance\n",
        "  G = nx.Graph()\n",
        "\n",
        "  for i in range(n):\n",
        "    G.add_node(i,weight = node_weights[i])\n",
        "\n",
        "  for (i, j), w in edge_weights.items():\n",
        "    if w > 0:\n",
        "      G.add_edge(i, j)\n",
        "\n",
        "  return G"
      ]
    },
    {
      "cell_type": "markdown",
      "metadata": {
        "id": "FUjfNT4_4Zjl"
      },
      "source": [
        "### Greedy(Rollout)\n"
      ]
    },
    {
      "cell_type": "code",
      "execution_count": null,
      "metadata": {
        "id": "_ZQOLFzs4dxl"
      },
      "outputs": [],
      "source": [
        "def select_using_rollout(G, cleared, current, instance):\n",
        "  sim_cleared = set(cleared)  #set enthät die bereits besuchten knoten\n",
        "  simulierter_path = [current]  #start der Liste für den simulierten pfad\n",
        "  sim_cleared.add(current)  #current wird als startknoten dem set hunzugefügt\n",
        "\n",
        "  while len(sim_cleared) < G.number_of_nodes(): #schleife läuft solange es noch unbesuchte räume gibt\n",
        "    candidates = [n for n in G.neighbors(current) if n not in sim_cleared]  #liste der unbesuchten nachbarn des aktuellen raumes\n",
        "    if not candidates:\n",
        "      candidates = [i for i in G.nodes() if i not in sim_cleared] #liste aller unbesuchten räume\n",
        "    next_node = min(candidates, key=lambda x: len([n for n in G.neighbors(x) if n not in sim_cleared])) #greedy kriterium\n",
        "    simulierter_path.append(next_node)\n",
        "    sim_cleared.add(next_node)\n",
        "    current = next_node\n",
        "  return simulierter_path #gebe den simulierten Pfad zurück\n",
        "\n",
        "def greedy_graph_rollout(instance, start = 0):\n",
        "  G = erstelle_graph(instance)\n",
        "  n, node_weights, edge_weights = instance\n",
        "\n",
        "  cleared = set() #set enthät die bereits besuchten räume\n",
        "  path = [start]  #liste speichert die reihenfolge\n",
        "  current = start #startknoten wird unser aktuell besuchter raum\n",
        "  cleared.add(current)  #startknoten wird in unser set hinzugefügt\n",
        "\n",
        "  while len(cleared) < G.number_of_nodes(): #schleife läuft bis alle räume besucht wurden\n",
        "    candidates = [n for n in G.neighbors(current) if n not in cleared]  #liste der unbesuchten nachbarn\n",
        "    if not candidates:\n",
        "      candidates =  [i for i in range(n) if i not in cleared] #liste aller unbesuchten räume\n",
        "    best_candidate = None  #speicher des besten kandidaten\n",
        "    best_sim_cost = 1000000#speicher der besten geschätzten kosten\n",
        "\n",
        "    for i in candidates:\n",
        "      pre_cleared = cleared.copy()\n",
        "      pre_cleared.add(i)\n",
        "      sim_path = select_using_rollout(G, pre_cleared, i, instance)\n",
        "\n",
        "      sim_cost,_ = Graph_clearer(instance, sim_path)\n",
        "      if sim_cost < best_sim_cost:\n",
        "        best_sim_cost = sim_cost\n",
        "        best_candidate = i\n",
        "\n",
        "    path.append(best_candidate)\n",
        "    cleared.add(best_candidate)\n",
        "    current = best_candidate\n",
        "  return path"
      ]
    },
    {
      "cell_type": "markdown",
      "metadata": {
        "id": "v_8zwKj7uHcp"
      },
      "source": [
        "### Greedy(wenigste nächsten Knoten)\n"
      ]
    },
    {
      "cell_type": "code",
      "execution_count": null,
      "metadata": {
        "colab": {
          "base_uri": "https://localhost:8080/"
        },
        "id": "QGij3JjGuFos",
        "outputId": "d2fcceb7-0af6-4617-9771-01b486584b0b"
      },
      "outputs": [
        {
          "name": "stdout",
          "output_type": "stream",
          "text": [
            "CPU times: user 7 µs, sys: 1 µs, total: 8 µs\n",
            "Wall time: 10.5 µs\n"
          ]
        }
      ],
      "source": [
        "\n",
        "import networkx as nx\n",
        "\n",
        "\n",
        "def greedy_graph_clear_min_neighbors(instance, start=0):\n",
        "    n, node_weights, edge_weights = instance\n",
        "    G = nx.DiGraph()  #erstellt graphne aus der instanz\n",
        "    for i in range(n):\n",
        "      G.add_node(i,weight = node_weights[i])\n",
        "\n",
        "    for (i, j), w in edge_weights.items():\n",
        "        if w > 0:\n",
        "            G.add_edge(i, j)\n",
        "\n",
        "    cleared = set() #besuchte knoten\n",
        "    path = [start]  #reihenfolge\n",
        "    current = start #knoten den wir gerade betrachten\n",
        "    cleared.add(current)  #aktuell besuchter knoten wird zu der menge der besuchten knoten hinzugefuegt\n",
        "\n",
        "    while len(cleared) < n: #schleife, die solange geht bis alle knoten besucht wurden\n",
        "        candidates = [nbr for nbr in G.successors(current) if nbr not in cleared] #suche nach nachbarn die noch nicht besucht wurden\n",
        "        if not candidates:  #falls es keine mehr gibt, suche nach einem neuen knoten der noch nicht besucht wurde und moeglichst wenige angrenzende knoten hat\n",
        "            candidates = [i for i in range(n) if i not in cleared]\n",
        "        #knoten mit den wenigstens angrenzendend knoten\n",
        "        next_node = min(candidates, key=lambda x: len([pred for pred in G.predecessors(x) if pred not in cleared])) #greedy kriterium, knoten die moeglichst wenige nachbarn haben\n",
        "\n",
        "        path.append(next_node)\n",
        "        cleared.add(next_node)\n",
        "        current = next_node\n",
        "\n",
        "    return path\n"
      ]
    },
    {
      "cell_type": "markdown",
      "metadata": {
        "id": "QDKVyHIS5qca"
      },
      "source": [
        "### Simplified Rollout"
      ]
    },
    {
      "cell_type": "code",
      "execution_count": null,
      "metadata": {
        "id": "WUC5CfqS5s-7"
      },
      "outputs": [],
      "source": [
        "def simplified_select_using_rollout_min_n(G, cleared, current, instance):\n",
        "  sim_cleared = set(cleared)\n",
        "  simulierter_path = [current]\n",
        "  sim_cleared.add(current)\n",
        "\n",
        "  while len(sim_cleared) < G.number_of_nodes():\n",
        "    candidates = [n for n in G.neighbors(current) if n not in sim_cleared]\n",
        "    if not candidates:\n",
        "      candidates = [i for i in G.nodes() if i not in sim_cleared]\n",
        "\n",
        "    sorted_candidates = sorted(candidates, key = lambda x: len([n for n in G.neighbors(x) if n not in sim_cleared]))\n",
        "\n",
        "    best_node = sorted_candidates[0]\n",
        "\n",
        "    simulierter_path.append(best_node)\n",
        "    sim_cleared.add(best_node)\n",
        "    current = best_node\n",
        "  return simulierter_path\n",
        "\n",
        "def simplified_select_using_rollout_node_w(G, cleared, current, instance):\n",
        "  n, node_weights, edge_weights = instance\n",
        "  sim_cleared = set(cleared)\n",
        "  simulierter_path = [current]\n",
        "  sim_cleared.add(current)\n",
        "\n",
        "  while len(sim_cleared) < G.number_of_nodes():\n",
        "    candidates = [n for n in G.neighbors(current) if n not in sim_cleared]\n",
        "    if not candidates:\n",
        "      candidates = [i for i in G.nodes() if i not in sim_cleared]\n",
        "\n",
        "    sorted_candidates = sorted(candidates, key=lambda x: node_weights[x]+edge_weights[current,x])\n",
        "\n",
        "    best_node = sorted_candidates[0]\n",
        "\n",
        "    simulierter_path.append(best_node)\n",
        "    sim_cleared.add(best_node)\n",
        "    current = best_node\n",
        "  return simulierter_path\n",
        "\n",
        "\n",
        "\n",
        "def simplified_greedy_graph_rollout_min_n(instance,start=0, max_neighbors=3):\n",
        "  G = erstelle_graph(instance)\n",
        "  n, node_weights, edge_weights = instance\n",
        "\n",
        "  cleared = set()\n",
        "  path = [start]\n",
        "  current = start\n",
        "  cleared.add(current)\n",
        "\n",
        "  while len(cleared) < G.number_of_nodes():\n",
        "    candidates = [n for n in G.neighbors(current) if n not in cleared]\n",
        "    if not candidates:\n",
        "      candidates = [i for i in range(n) if i not in cleared]\n",
        "\n",
        "    best_candidate = None\n",
        "    best_sim_cost = 1000000\n",
        "\n",
        "    sorted_candidates = sorted(candidates, key = lambda x: len([n for n in G.neighbors(x) if n not in cleared]))\n",
        "    limited_candidates = sorted_candidates[:max_neighbors]\n",
        "\n",
        "    for i in limited_candidates:\n",
        "      pre_cleared = cleared.copy()\n",
        "      pre_cleared.add(i)\n",
        "      sim_path = simplified_select_using_rollout_min_n(G, pre_cleared, i, instance)\n",
        "\n",
        "      sim_cost,_ = Graph_clearer(instance, sim_path)\n",
        "      if sim_cost < best_sim_cost:\n",
        "        best_sim_cost = sim_cost\n",
        "        best_candidate = i\n",
        "\n",
        "    path.append(best_candidate)\n",
        "    cleared.add(best_candidate)\n",
        "    current = best_candidate\n",
        "  return path\n",
        "\n",
        "\n",
        "\n",
        "\n",
        "def simplified_greedy_graph_rollout_node_w(instance,start=0, max_neighbors=3):\n",
        "  G = erstelle_graph(instance)\n",
        "  n, node_weights, edge_weights = instance\n",
        "\n",
        "  cleared = set()\n",
        "  path = [start]\n",
        "  current = start\n",
        "  cleared.add(current)\n",
        "\n",
        "  while len(cleared) < G.number_of_nodes():\n",
        "    candidates = [n for n in G.neighbors(current) if n not in cleared]\n",
        "    if not candidates:\n",
        "      candidates = [i for i in range(n) if i not in cleared]\n",
        "\n",
        "    best_candidate = None\n",
        "    best_sim_cost = 1000000\n",
        "\n",
        "    sorted_candidates = sorted(candidates, key = lambda x: len([n for n in G.neighbors(x) if n not in cleared]))\n",
        "    limited_candidates = sorted_candidates[:max_neighbors]\n",
        "\n",
        "    for i in limited_candidates:\n",
        "      pre_cleared = cleared.copy()\n",
        "      pre_cleared.add(i)\n",
        "      sim_path = simplified_select_using_rollout_node_w(G, pre_cleared, i, instance)\n",
        "\n",
        "      sim_cost,_ = Graph_clearer(instance, sim_path)\n",
        "      if sim_cost < best_sim_cost:\n",
        "        best_sim_cost = sim_cost\n",
        "        best_candidate = i\n",
        "\n",
        "    path.append(best_candidate)\n",
        "    cleared.add(best_candidate)\n",
        "    current = best_candidate\n",
        "  return path"
      ]
    },
    {
      "cell_type": "markdown",
      "metadata": {
        "id": "qPLO1p2Cuwnp"
      },
      "source": [
        "### Greedy(Node Weights + Edge weights)\n"
      ]
    },
    {
      "cell_type": "code",
      "execution_count": null,
      "metadata": {
        "colab": {
          "base_uri": "https://localhost:8080/"
        },
        "id": "Un5ErcNBBhnm",
        "outputId": "9cd5555a-7d9a-42e5-c565-0470819985fd"
      },
      "outputs": [
        {
          "name": "stdout",
          "output_type": "stream",
          "text": [
            "CPU times: user 13 µs, sys: 0 ns, total: 13 µs\n",
            "Wall time: 16 µs\n"
          ]
        }
      ],
      "source": [
        "\n",
        "import networkx as nx\n",
        "def greedy_graph_clear(instance, start=0):\n",
        "    n, node_weights, edge_weights = instance\n",
        "    G = nx.DiGraph()  #erstellt graphne aus der instanz\n",
        "\n",
        "    for i in range(n):\n",
        "      G.add_node(i,weight = node_weights[i])\n",
        "\n",
        "    for (i, j), w in edge_weights.items():\n",
        "        if w > 0:\n",
        "            G.add_edge(i, j)\n",
        "\n",
        "    cleared = set() #besuchte knoten\n",
        "    path = [start]  #reihenfolge\n",
        "    current = start #knoten den wir gerade betrachten\n",
        "    cleared.add(current)  #aktuell besuchter knoten wird zu der menge der besuchten knoten hinzugefuegt\n",
        "\n",
        "    while len(cleared) < n: #schleife, die solange geht bis alle knoten besucht wurden\n",
        "        candidates = [nbr for nbr in G.successors(current) if nbr not in cleared] #suche nach nachbarn die noch nicht besucht wurden\n",
        "        if not candidates:  #falls es keine mehr gibt, suche nach einem neuen knoten der noch nicht besucht wurde und moeglichst wenige angrenzende knoten hat\n",
        "            candidates = [i for i in range(n) if i not in cleared]\n",
        "        #knoten mit den wenigstens angrenzendend knoten\n",
        "        next_node = min(candidates, key=lambda x: node_weights[x]+edge_weights[current,x]) #greedy kriterium, knoten die moeglichst wenige nachbarn haben\n",
        "\n",
        "        path.append(next_node)\n",
        "        cleared.add(next_node)\n",
        "        current = next_node\n",
        "\n",
        "    return path\n"
      ]
    },
    {
      "cell_type": "markdown",
      "metadata": {
        "id": "5Bh1LVn8u2sB"
      },
      "source": [
        "### Graph Clearer\n"
      ]
    },
    {
      "cell_type": "code",
      "execution_count": null,
      "metadata": {
        "colab": {
          "base_uri": "https://localhost:8080/"
        },
        "id": "cyv4-XqMywoI",
        "outputId": "3e864d3e-1565-4cb8-ffd2-c45da6ababc9"
      },
      "outputs": [
        {
          "name": "stdout",
          "output_type": "stream",
          "text": [
            "CPU times: user 4 µs, sys: 0 ns, total: 4 µs\n",
            "Wall time: 6.91 µs\n"
          ]
        }
      ],
      "source": [
        "%%time\n",
        "def Graph_clearer(Instanz,Weg):\n",
        "  _,Räume,Durchgänge = Instanz\n",
        "  Roboter_gesamt = 0\n",
        "  Aktuelle_Roboter = 0\n",
        "  Bereits_gereinigt = set()\n",
        "  Durchgänge_bewacht = set()\n",
        "\n",
        "  for node in Weg:\n",
        "    Aktuelle_Roboter += Räume[node]\n",
        "    Bereits_gereinigt.add(node)\n",
        "    for i in range(len(Räume)):\n",
        "      if i not in Bereits_gereinigt:\n",
        "        kante = (node,i)\n",
        "        kante_r = (i,node)\n",
        "\n",
        "        if kante_r not in Durchgänge_bewacht and Durchgänge[kante] > 0:\n",
        "          Aktuelle_Roboter += Durchgänge[kante]\n",
        "          Durchgänge_bewacht.add(kante)\n",
        "    if Aktuelle_Roboter > Roboter_gesamt:\n",
        "      Roboter_gesamt += Aktuelle_Roboter - Roboter_gesamt\n",
        "      Aktuelle_Roboter -= Räume[node]\n",
        "      for n in range(len(Räume)):\n",
        "        if node and n in Bereits_gereinigt and Durchgänge[node,n] > 0:\n",
        "          Aktuelle_Roboter -= Durchgänge[(n,node)]\n",
        "    else:\n",
        "      for n in range(len(Räume)):\n",
        "        if node and n in Bereits_gereinigt:\n",
        "          Aktuelle_Roboter -= Durchgänge[(node,n)]\n",
        "      Aktuelle_Roboter -= Räume[node]\n",
        "  return Roboter_gesamt,Weg\n"
      ]
    },
    {
      "cell_type": "markdown",
      "metadata": {
        "id": "YPe61dSUmP-8"
      },
      "source": [
        "### Multi Start\n"
      ]
    },
    {
      "cell_type": "code",
      "execution_count": null,
      "metadata": {
        "id": "IlOFjigahl1l"
      },
      "outputs": [],
      "source": [
        "def Graph_multi(filename):\n",
        "  Instanz = read(filename)\n",
        "  _,Räume,Durch = Instanz\n",
        "  beste_roboter = 100000\n",
        "  bester_Weg = []\n",
        "  for n in range(len(Räume)):\n",
        "    Robot,Weg = Gc_min_Neighbors(filename,n)\n",
        "    if Robot < beste_roboter:\n",
        "      beste_roboter = Robot\n",
        "      bester_Weg = Weg\n",
        "  return beste_roboter,bester_Weg"
      ]
    },
    {
      "cell_type": "code",
      "execution_count": null,
      "metadata": {
        "id": "CT4wv_S1ZZAR"
      },
      "outputs": [],
      "source": [
        "def Graph_multi_node_w(filename):\n",
        "  Instanz = read(filename)\n",
        "  _,Räume,Durch = Instanz\n",
        "  beste_roboter = 100000\n",
        "  bester_Weg = []\n",
        "  for n in range(len(Räume)):\n",
        "    Robot,Weg = Gc_node_w(filename,n)\n",
        "    if Robot < beste_roboter:\n",
        "      beste_roboter = Robot\n",
        "      bester_Weg = Weg\n",
        "  return beste_roboter,bester_Weg"
      ]
    },
    {
      "cell_type": "code",
      "execution_count": null,
      "metadata": {
        "id": "NdzQ1E4z5ftz"
      },
      "outputs": [],
      "source": [
        "def Graph_multi_rollout(filename):\n",
        "  instanz = read(filename)\n",
        "  _,Räume,Durch = instanz\n",
        "  beste_roboter = 100000\n",
        "  bester_Weg = []\n",
        "  for n in range(len(Räume)):\n",
        "    Weg = greedy_graph_rollout(instanz,n)\n",
        "    Robot,_ = Graph_clearer(instanz,Weg)\n",
        "    if Robot < beste_roboter:\n",
        "      beste_roboter = Robot\n",
        "      bester_Weg = Weg\n",
        "  return beste_roboter,bester_Weg"
      ]
    },
    {
      "cell_type": "code",
      "execution_count": null,
      "metadata": {
        "id": "sX2rXWHO5xly"
      },
      "outputs": [],
      "source": [
        "def Gm_simplified_min_n(filename,max_neighbors = 3):\n",
        "  instanz = read(filename)\n",
        "  _,Räume,Durch = instanz\n",
        "  beste_roboter = 100000\n",
        "  bester_Weg = []\n",
        "  for n in range(len(Räume)):\n",
        "    Weg = simplified_greedy_graph_rollout_min_n(instanz,n,max_neighbors)\n",
        "    Robot,_ = Graph_clearer(instanz,Weg)\n",
        "    if Robot < beste_roboter:\n",
        "      beste_roboter = Robot\n",
        "      bester_Weg = Weg\n",
        "  return beste_roboter,bester_Weg"
      ]
    },
    {
      "cell_type": "code",
      "execution_count": null,
      "metadata": {
        "id": "j2nwcFxbBNor"
      },
      "outputs": [],
      "source": [
        "def Gm_simplified_node_w(filename,max_neighbors = 3):\n",
        "  instanz = read(filename)\n",
        "  _,Räume,Durch = instanz\n",
        "  beste_roboter = 100000\n",
        "  bester_Weg = []\n",
        "  for n in range(len(Räume)):\n",
        "    Weg = simplified_greedy_graph_rollout_node_w(instanz,n,max_neighbors)\n",
        "    Robot,_ = Graph_clearer(instanz,Weg)\n",
        "    if Robot < beste_roboter:\n",
        "      beste_roboter = Robot\n",
        "      bester_Weg = Weg\n",
        "  return beste_roboter,bester_Weg"
      ]
    },
    {
      "cell_type": "markdown",
      "metadata": {
        "id": "h5oXdS7Qu6I5"
      },
      "source": [
        "### Proof Feasible"
      ]
    },
    {
      "cell_type": "code",
      "execution_count": null,
      "metadata": {
        "id": "rJ09TON30pwc"
      },
      "outputs": [],
      "source": [
        "def validate(n, node_weights, edge_weights, solution, cost):\n",
        "    actual_cost = 0\n",
        "    clean = set()\n",
        "\n",
        "    for i in solution:\n",
        "        if i < 0 or i > n - 1:\n",
        "            print(\"Node {} does not exist\".format(i))\n",
        "            return False\n",
        "        if i in clean:\n",
        "            print(\"{} is already clean\".format(i))\n",
        "            return False\n",
        "\n",
        "        n_robots = node_weights[i]\n",
        "        for j in range(n):\n",
        "            if (i, j) in edge_weights:\n",
        "                n_robots += edge_weights[i, j]\n",
        "            elif (j, i) in edge_weights:\n",
        "                n_robots += edge_weights[j, i]\n",
        "        for j in range(n):\n",
        "            if j in clean:\n",
        "                for k in range(n):\n",
        "                    if k != i and k not in clean:\n",
        "                        if (j, k) in edge_weights:\n",
        "                            n_robots += edge_weights[j, k]\n",
        "                        elif (k, j) in edge_weights:\n",
        "                            n_robots += edge_weights[k, j]\n",
        "\n",
        "        actual_cost = max(actual_cost, n_robots)\n",
        "        clean.add(i)\n",
        "\n",
        "    if len(clean) != n:\n",
        "        print(\"The number of swept nodes is {}, but should be {}\".format(len(clean), n))\n",
        "        return False\n",
        "\n",
        "    if actual_cost != cost:\n",
        "        print(\n",
        "            \"The cost of solution {} mismatches the actual cost {}\".format(\n",
        "                cost, actual_cost\n",
        "            )\n",
        "        )\n",
        "        return False\n",
        "\n",
        "    return True"
      ]
    },
    {
      "cell_type": "code",
      "execution_count": null,
      "metadata": {
        "id": "ValRorAWYdc-"
      },
      "outputs": [],
      "source": [
        "def proof_feasible(filename,Anzahl_Roboter,Durchlauf):\n",
        "  Instanz = read(filename)\n",
        "  _,Räume,Durch = Instanz\n",
        "  big = 0\n",
        "  Zahl = 0\n",
        "  b = 0\n",
        "  if len(Räume) == len(Durchlauf):    #Länge der Räume und des abgegangen Weges muss gleich sein\n",
        "    for i in range(len(Räume)):\n",
        "      Zahl = Räume[i]\n",
        "      for n in range(len(Räume)):           #Mindestanzahl an gebrauchten Roboter, muss die berechneten Roboter unterschreiten\n",
        "        Zahl += Durch[i,n]\n",
        "      if Zahl > big:\n",
        "        big = Zahl\n",
        "    if validate(len(Räume),Räume,Durch,Durchlauf,Anzahl_Roboter):\n",
        "      b = 10\n",
        "    if big <= Anzahl_Roboter and b == 10:\n",
        "      print(f\"Antwort gültig, Anzahl an Robotern: {Anzahl_Roboter}\")\n",
        "    else:\n",
        "      print(\"Ungültig\")\n",
        "\n"
      ]
    },
    {
      "cell_type": "markdown",
      "metadata": {
        "id": "HTisSihImbLD"
      },
      "source": [
        "### Optimum Rechner\n"
      ]
    },
    {
      "cell_type": "code",
      "execution_count": null,
      "metadata": {
        "id": "MKy_cRoP7-bl"
      },
      "outputs": [],
      "source": [
        "def opt_rechner(filename):\n",
        "  Instanz = read(filename)\n",
        "  _,Räume,Durch = Instanz\n",
        "\n",
        "  big = 0\n",
        "  Zahl = 0\n",
        "  for i in range(len(Räume)):         #Kanten und Knotengewichte werden summiert, für die Mindestanhzahl und vermutlichem Optimum\n",
        "      Zahl = Räume[i]\n",
        "      for n in range(len(Räume)):\n",
        "        Zahl += Durch[i,n]\n",
        "      if Zahl > big:\n",
        "        big = Zahl\n",
        "  return big\n",
        "\n"
      ]
    },
    {
      "cell_type": "markdown",
      "metadata": {
        "id": "LMYZBB4YmfHH"
      },
      "source": [
        "### Graph Clearer mit Greedy"
      ]
    },
    {
      "cell_type": "code",
      "execution_count": null,
      "metadata": {
        "id": "_MyyuAAh5KeL"
      },
      "outputs": [],
      "source": [
        "def Gc_min_Neighbors(filename,start = 0):\n",
        "  Instanz = read(filename)\n",
        "  Weg = greedy_graph_clear_min_neighbors(Instanz,start)\n",
        "  _,Räume,Durchgänge = Instanz\n",
        "  Roboter_gesamt = 0\n",
        "  Aktuelle_Roboter = 0\n",
        "  Bereits_gereinigt = set()\n",
        "  Durchgänge_bewacht = set()\n",
        "\n",
        "  for node in Weg:\n",
        "    Aktuelle_Roboter += Räume[node]  # Knotengewicht wird addiert\n",
        "    Bereits_gereinigt.add(node)\n",
        "    for i in range(len(Räume)):\n",
        "      if i not in Bereits_gereinigt:\n",
        "        kante = (node,i)              # Kanten werden abgespeichert\n",
        "        kante_r = (i,node)\n",
        "\n",
        "        if kante_r not in Durchgänge_bewacht and Durchgänge[kante] > 0: #Kanten werden geprüft\n",
        "          Aktuelle_Roboter += Durchgänge[kante]\n",
        "          Durchgänge_bewacht.add(kante)\n",
        "    if Aktuelle_Roboter > Roboter_gesamt:           # Neue Anzahl Roboter werden gespeichert\n",
        "      Roboter_gesamt += Aktuelle_Roboter - Roboter_gesamt\n",
        "      Aktuelle_Roboter -= Räume[node]\n",
        "      for n in range(len(Räume)):\n",
        "        if node and n in Bereits_gereinigt and Durchgänge[node,n] > 0:\n",
        "          Aktuelle_Roboter -= Durchgänge[(n,node)]\n",
        "    else:\n",
        "      for n in range(len(Räume)):\n",
        "        if node and n in Bereits_gereinigt:       # Aktuelle Roboter werden berechnet falls die neuen nicht größer sind als die Alten\n",
        "          Aktuelle_Roboter -= Durchgänge[(node,n)]\n",
        "      Aktuelle_Roboter -= Räume[node]\n",
        "  return Roboter_gesamt,Weg"
      ]
    },
    {
      "cell_type": "code",
      "execution_count": null,
      "metadata": {
        "id": "2E3OoMkK-mnM"
      },
      "outputs": [],
      "source": [
        "def Gc_node_w(filename,start = 0):\n",
        "  Instanz = read(filename)\n",
        "  _,Räume,Durchgänge = Instanz\n",
        "  Weg = greedy_graph_clear(Instanz,start)\n",
        "  Roboter_gesamt = 0\n",
        "  Aktuelle_Roboter = 0\n",
        "  Bereits_gereinigt = set()\n",
        "  Durchgänge_bewacht = set()\n",
        "\n",
        "  for node in Weg:\n",
        "    Aktuelle_Roboter += Räume[node]\n",
        "    Bereits_gereinigt.add(node)\n",
        "    for i in range(len(Räume)):\n",
        "      if i not in Bereits_gereinigt:\n",
        "        kante = (node,i)\n",
        "        kante_r = (i,node)\n",
        "\n",
        "        if kante_r not in Durchgänge_bewacht and Durchgänge[kante] > 0:\n",
        "          Aktuelle_Roboter += Durchgänge[kante]\n",
        "          Durchgänge_bewacht.add(kante)\n",
        "    if Aktuelle_Roboter > Roboter_gesamt:\n",
        "      Roboter_gesamt += Aktuelle_Roboter - Roboter_gesamt\n",
        "      Aktuelle_Roboter -= Räume[node]\n",
        "      for n in range(len(Räume)):\n",
        "        if node and n in Bereits_gereinigt and Durchgänge[node,n] > 0:\n",
        "          Aktuelle_Roboter -= Durchgänge[(n,node)]\n",
        "    else:\n",
        "      for n in range(len(Räume)):\n",
        "        if node and n in Bereits_gereinigt:\n",
        "          Aktuelle_Roboter -= Durchgänge[(node,n)]\n",
        "      Aktuelle_Roboter -= Räume[node]\n",
        "  return Roboter_gesamt,Weg"
      ]
    },
    {
      "cell_type": "code",
      "execution_count": null,
      "metadata": {
        "id": "LM2UWxwo6P45"
      },
      "outputs": [],
      "source": [
        "def Gc_rollout(filename,start = 0):\n",
        "  Instanz = read(filename)\n",
        "  _,Räume,Durchgänge = Instanz\n",
        "  Weg = greedy_graph_rollout(Instanz,start)\n",
        "  Roboter_gesamt = 0\n",
        "  Aktuelle_Roboter = 0\n",
        "  Bereits_gereinigt = set()\n",
        "  Durchgänge_bewacht = set()\n",
        "\n",
        "  for node in Weg:\n",
        "    Aktuelle_Roboter += Räume[node]\n",
        "    Bereits_gereinigt.add(node)\n",
        "    for i in range(len(Räume)):\n",
        "      if i not in Bereits_gereinigt:\n",
        "        kante = (node,i)\n",
        "        kante_r = (i,node)\n",
        "\n",
        "        if kante_r not in Durchgänge_bewacht and Durchgänge[kante] > 0:\n",
        "          Aktuelle_Roboter += Durchgänge[kante]\n",
        "          Durchgänge_bewacht.add(kante)\n",
        "    if Aktuelle_Roboter > Roboter_gesamt:\n",
        "      Roboter_gesamt += Aktuelle_Roboter - Roboter_gesamt\n",
        "      Aktuelle_Roboter -= Räume[node]\n",
        "      for n in range(len(Räume)):\n",
        "        if node and n in Bereits_gereinigt and Durchgänge[node,n] > 0:\n",
        "          Aktuelle_Roboter -= Durchgänge[(n,node)]\n",
        "    else:\n",
        "      for n in range(len(Räume)):\n",
        "        if node and n in Bereits_gereinigt:\n",
        "          Aktuelle_Roboter -= Durchgänge[(node,n)]\n",
        "      Aktuelle_Roboter -= Räume[node]\n",
        "  return Roboter_gesamt,Weg"
      ]
    },
    {
      "cell_type": "code",
      "execution_count": null,
      "metadata": {
        "id": "nJSu2ZwL6wSU"
      },
      "outputs": [],
      "source": [
        "def Gc_simplified_min_n(filename,start = 0,max_numbers_rollout = 3):\n",
        "  Instanz = read(filename)\n",
        "  _,Räume,Durchgänge = Instanz\n",
        "  Weg = simplified_greedy_graph_rollout_min_n(Instanz,start,max_numbers_rollout)\n",
        "  Roboter_gesamt = 0\n",
        "  Aktuelle_Roboter = 0\n",
        "  Bereits_gereinigt = set()\n",
        "  Durchgänge_bewacht = set()\n",
        "\n",
        "  for node in Weg:\n",
        "    Aktuelle_Roboter += Räume[node]\n",
        "    Bereits_gereinigt.add(node)\n",
        "    for i in range(len(Räume)):\n",
        "      if i not in Bereits_gereinigt:\n",
        "        kante = (node,i)\n",
        "        kante_r = (i,node)\n",
        "\n",
        "        if kante_r not in Durchgänge_bewacht and Durchgänge[kante] > 0:\n",
        "          Aktuelle_Roboter += Durchgänge[kante]\n",
        "          Durchgänge_bewacht.add(kante)\n",
        "    if Aktuelle_Roboter > Roboter_gesamt:\n",
        "      Roboter_gesamt += Aktuelle_Roboter - Roboter_gesamt\n",
        "      Aktuelle_Roboter -= Räume[node]\n",
        "      for n in range(len(Räume)):\n",
        "        if node and n in Bereits_gereinigt and Durchgänge[node,n] > 0:\n",
        "          Aktuelle_Roboter -= Durchgänge[(n,node)]\n",
        "    else:\n",
        "      for n in range(len(Räume)):\n",
        "        if node and n in Bereits_gereinigt:\n",
        "          Aktuelle_Roboter -= Durchgänge[(node,n)]\n",
        "      Aktuelle_Roboter -= Räume[node]\n",
        "  return Roboter_gesamt,Weg"
      ]
    },
    {
      "cell_type": "code",
      "execution_count": null,
      "metadata": {
        "id": "0D2N0jlyBh2d"
      },
      "outputs": [],
      "source": [
        "def Gc_simplified_node_w(filename,start = 0,max_numbers_rollout = 3):\n",
        "  Instanz = read(filename)\n",
        "  _,Räume,Durchgänge = Instanz\n",
        "  Weg = simplified_greedy_graph_rollout_node_w(Instanz,start,max_numbers_rollout)\n",
        "  Roboter_gesamt = 0\n",
        "  Aktuelle_Roboter = 0\n",
        "  Bereits_gereinigt = set()\n",
        "  Durchgänge_bewacht = set()\n",
        "\n",
        "  for node in Weg:\n",
        "    Aktuelle_Roboter += Räume[node]\n",
        "    Bereits_gereinigt.add(node)\n",
        "    for i in range(len(Räume)):\n",
        "      if i not in Bereits_gereinigt:\n",
        "        kante = (node,i)\n",
        "        kante_r = (i,node)\n",
        "\n",
        "        if kante_r not in Durchgänge_bewacht and Durchgänge[kante] > 0:\n",
        "          Aktuelle_Roboter += Durchgänge[kante]\n",
        "          Durchgänge_bewacht.add(kante)\n",
        "    if Aktuelle_Roboter > Roboter_gesamt:\n",
        "      Roboter_gesamt += Aktuelle_Roboter - Roboter_gesamt\n",
        "      Aktuelle_Roboter -= Räume[node]\n",
        "      for n in range(len(Räume)):\n",
        "        if node and n in Bereits_gereinigt and Durchgänge[node,n] > 0:\n",
        "          Aktuelle_Roboter -= Durchgänge[(n,node)]\n",
        "    else:\n",
        "      for n in range(len(Räume)):\n",
        "        if node and n in Bereits_gereinigt:\n",
        "          Aktuelle_Roboter -= Durchgänge[(node,n)]\n",
        "      Aktuelle_Roboter -= Räume[node]\n",
        "  return Roboter_gesamt,Weg"
      ]
    },
    {
      "cell_type": "markdown",
      "metadata": {
        "id": "JUkhXDXQmykc"
      },
      "source": [
        "### Ordner durchgehen"
      ]
    },
    {
      "cell_type": "code",
      "execution_count": null,
      "metadata": {
        "id": "x-qu0bEH6h_D"
      },
      "outputs": [],
      "source": [
        "import os\n",
        "def verarbeite_ordner(pfad_zum_ordner):\n",
        "  Files = []\n",
        "  for dateiname in os.listdir(pfad_zum_ordner):\n",
        "      dateipfad = os.path.join(pfad_zum_ordner, dateiname)\n",
        "      if os.path.isfile(dateipfad):\n",
        "        Files.append(dateipfad)\n",
        "  return Files\n",
        "\n",
        "\n",
        "ordner_klein = '/content/drive/MyDrive/Instanzen_klein'  # 5 20er, 30er,40er\n",
        "ordner_groß = '/content/drive/MyDrive/Instanzen_groß'    # 2 100er\n"
      ]
    },
    {
      "cell_type": "markdown",
      "metadata": {
        "id": "NwWG5M8hm5ry"
      },
      "source": [
        "### Algotithmen durchführen (Data Frame)"
      ]
    },
    {
      "cell_type": "code",
      "execution_count": null,
      "metadata": {
        "id": "n5_yWcm8iSy_"
      },
      "outputs": [],
      "source": [
        "\n",
        "def run_algorithm_with_parameters(instance_name, function_algorithm, algorithm_parameters):\n",
        "\n",
        "    # Parameter dictornary\n",
        "    name = os.path.basename(instance_name)\n",
        "    result_dict = {}\n",
        "    result_dict[\"Instance\"] = name\n",
        "    result_dict[\"Algorithm\"] = function_algorithm.__name__\n",
        "    result_dict[\"Parameters\"] = algorithm_parameters.copy()\n",
        "\n",
        "\n",
        "    # ausführen\n",
        "    starttime = timer()\n",
        "    permutation, distance = function_algorithm(instance_name, **algorithm_parameters)\n",
        "\n",
        "\n",
        "    result_dict[\"Objective\"] = permutation\n",
        "    result_dict[\"Optimum\"] = opt_rechner(instance_name)\n",
        "    result_dict[\"Time\"] = timer()- starttime\n",
        "\n",
        "    return result_dict"
      ]
    },
    {
      "cell_type": "code",
      "execution_count": null,
      "metadata": {
        "id": "tHPVGqoBhfUl"
      },
      "outputs": [],
      "source": [
        "def run_algorithms_with_parameters(instance_name, algorithms_parameters):\n",
        "\n",
        "    results = []\n",
        "    for algorithm, parameters in algorithms_parameters:\n",
        "\n",
        "        results.append (run_algorithm_with_parameters(instance_name, algorithm, parameters) )\n",
        "\n",
        "\n",
        "\n",
        "    return results\n",
        "\n",
        "\n",
        "def run_algorithms_with_parameters_on_instances (instance_names, algorithms_parameters):\n",
        "\n",
        "    results = []\n",
        "\n",
        "    for instance_name in instance_names:\n",
        "        results += run_algorithms_with_parameters( instance_name, algorithms_parameters)\n",
        "\n",
        "    return results"
      ]
    },
    {
      "cell_type": "code",
      "execution_count": null,
      "metadata": {
        "colab": {
          "background_save": true
        },
        "id": "ZuwRDIW6hlD8"
      },
      "outputs": [],
      "source": [
        "import pandas as pd\n",
        "# Die verschiedenen Algorithmen werden durchgegangen\n",
        "algorithms_parameters = [] # Liste erstellen\n",
        "\n",
        "algorithms_parameters.append( ( Gc_min_Neighbors, { \"start\" : 0 } ) )\n",
        "\n",
        "algorithms_parameters.append( ( Gc_node_w, { \"start\" : 0} ) )\n",
        "\n",
        "algorithms_parameters.append( ( Gc_rollout,{\"start\" : 0}))\n",
        "\n",
        "algorithms_parameters.append( ( Gc_simplified_min_n,{\"start\": 0,\"max_numbers_rollout\":3}))\n",
        "\n",
        "algorithms_parameters.append( ( Gc_simplified_node_w,{\"start\": 0,\"max_numbers_rollout\":3}))\n",
        "\n",
        "algorithms_parameters.append( ( Graph_multi, {}))\n",
        "\n",
        "algorithms_parameters.append( ( Graph_multi_node_w, {}))\n",
        "\n",
        "algorithms_parameters.append( ( Graph_multi_rollout,{}))\n",
        "\n",
        "algorithms_parameters.append( ( Gm_simplified_min_n,{\"max_neighbors\": 3}))\n",
        "\n",
        "algorithms_parameters.append( ( Gm_simplified_node_w,{\"max_neighbors\": 3}))\n",
        "\n",
        "results = run_algorithms_with_parameters_on_instances( verarbeite_ordner(ordner_klein), algorithms_parameters)\n",
        "\n",
        "df_klein = pd.DataFrame(results)\n",
        "\n",
        "results = run_algorithms_with_parameters_on_instances( verarbeite_ordner(ordner_groß), algorithms_parameters)\n",
        "df_groß = pd.DataFrame(results)\n",
        "\n",
        "df_results = pd.concat([df_klein,df_groß], ignore_index=True)"
      ]
    },
    {
      "cell_type": "code",
      "execution_count": null,
      "metadata": {
        "colab": {
          "background_save": true
        },
        "id": "HY2PiorZ7sFR"
      },
      "outputs": [],
      "source": [
        "df_results.to_latex(\"/content/drive/MyDrive/Ergebniss_Tabelle\",escape=True)"
      ]
    },
    {
      "cell_type": "markdown",
      "source": [
        "### Algortihmen durchgehen (aufsummieren)"
      ],
      "metadata": {
        "id": "o5j_O0eviwJS"
      }
    },
    {
      "cell_type": "code",
      "execution_count": null,
      "metadata": {
        "colab": {
          "background_save": true
        },
        "id": "Ei7bmsXXcsVt"
      },
      "outputs": [],
      "source": [
        "def run_algorithm_with_parameters_sum(instance_name, function_algorithm, algorithm_parameters):\n",
        "    # Die Ergebnisse der Algorithmen werden aufsummiert zum Gesamtüberblick\n",
        "    result = 0\n",
        "\n",
        "    # ausführen\n",
        "    optimum = opt_rechner(instance_name)\n",
        "    starttime = timer()\n",
        "    permutation, distance = function_algorithm(instance_name, **algorithm_parameters)\n",
        "    result += permutation\n",
        "    time = timer() - starttime\n",
        "\n",
        "    return result,optimum,time"
      ]
    },
    {
      "cell_type": "code",
      "execution_count": null,
      "metadata": {
        "colab": {
          "background_save": true
        },
        "id": "IokBpOAAbzIG",
        "outputId": "86ba030f-9a1c-410b-e024-6e51c97a07d7"
      },
      "outputs": [
        {
          "name": "stdout",
          "output_type": "stream",
          "text": [
            "Durchlauf für[(<function Gc_min_Neighbors at 0x7de3653c8900>, {'start': 0})]\n",
            "Kleine Instanz\n",
            "Gesamtmenge: 817, Optimum: 471,Zeit: 0.027434180000000197 Sekunden\n",
            " \n",
            "Große Instanz\n",
            "Gesamtmenge: 2042, Optimum: 162,Zeit: 0.027434180000000197 Sekunden\n",
            " \n",
            "Durchlauf für[(<function Gc_node_w at 0x7de3653c8b80>, {'start': 0})]\n",
            "Kleine Instanz\n",
            "Gesamtmenge: 1249, Optimum: 471,Zeit: 0.025682411999923715 Sekunden\n",
            " \n",
            "Große Instanz\n",
            "Gesamtmenge: 2499, Optimum: 162,Zeit: 0.025682411999923715 Sekunden\n",
            " \n",
            "Durchlauf für[(<function Gc_rollout at 0x7de3653c8f40>, {'start': 0})]\n",
            "Kleine Instanz\n",
            "Gesamtmenge: 1118, Optimum: 471,Zeit: 5.042764604000013 Sekunden\n",
            " \n",
            "Große Instanz\n",
            "Gesamtmenge: 2138, Optimum: 162,Zeit: 5.042764604000013 Sekunden\n",
            " \n",
            "Durchlauf für[(<function Gc_simplified_min_n at 0x7de3653c93a0>, {'start': 0})]\n",
            "Kleine Instanz\n",
            "Gesamtmenge: 937, Optimum: 471,Zeit: 1.2497383579998314 Sekunden\n",
            " \n",
            "Große Instanz\n",
            "Gesamtmenge: 2031, Optimum: 162,Zeit: 1.2497383579998314 Sekunden\n",
            " \n",
            "Durchlauf für[(<function Gc_simplified_node_w at 0x7de3653c9800>, {'start': 0})]\n",
            "Kleine Instanz\n",
            "Gesamtmenge: 1032, Optimum: 471,Zeit: 0.9412631850000253 Sekunden\n",
            " \n",
            "Große Instanz\n",
            "Gesamtmenge: 2177, Optimum: 162,Zeit: 0.9412631850000253 Sekunden\n",
            " \n",
            "Durchlauf für[(<function Graph_multi at 0x7de3653ab1a0>, {})]\n",
            "Kleine Instanz\n",
            "Gesamtmenge: 717, Optimum: 471,Zeit: 3.631837785000016 Sekunden\n",
            " \n",
            "Große Instanz\n",
            "Gesamtmenge: 1922, Optimum: 162,Zeit: 3.631837785000016 Sekunden\n",
            " \n",
            "Durchlauf für[(<function Graph_multi_node_w at 0x7de3653aade0>, {})]\n",
            "Kleine Instanz\n",
            "Gesamtmenge: 1068, Optimum: 471,Zeit: 2.6189334089999647 Sekunden\n",
            " \n",
            "Große Instanz\n",
            "Gesamtmenge: 2424, Optimum: 162,Zeit: 2.6189334089999647 Sekunden\n",
            " \n",
            "Durchlauf für[(<function Graph_multi_rollout at 0x7de3653ab880>, {})]\n",
            "Kleine Instanz\n",
            "Gesamtmenge: 881, Optimum: 471,Zeit: 567.139449644 Sekunden\n",
            " \n",
            "Große Instanz\n",
            "Gesamtmenge: 2016, Optimum: 162,Zeit: 567.139449644 Sekunden\n",
            " \n",
            "Durchlauf für[(<function Gm_simplified_min_n at 0x7de3653abc40>, {'max_neighbors': 3})]\n",
            "Kleine Instanz\n",
            "Gesamtmenge: 776, Optimum: 471,Zeit: 140.2323675409998 Sekunden\n",
            " \n",
            "Große Instanz\n",
            "Gesamtmenge: 1909, Optimum: 162,Zeit: 140.2323675409998 Sekunden\n",
            " \n",
            "Durchlauf für[(<function Gm_simplified_node_w at 0x7de3653c80e0>, {'max_neighbors': 3})]\n",
            "Kleine Instanz\n",
            "Gesamtmenge: 855, Optimum: 471,Zeit: 105.8027791699999 Sekunden\n",
            " \n",
            "Große Instanz\n",
            "Gesamtmenge: 2015, Optimum: 162,Zeit: 105.8027791699999 Sekunden\n",
            " \n"
          ]
        }
      ],
      "source": [
        "def run_algorithms_with_parameters_summarize(instance_name, algorithms_parameters):\n",
        "\n",
        "    results = 0\n",
        "    Optimum = 0\n",
        "    Time = 0\n",
        "    for algorithm, parameters in algorithms_parameters:\n",
        "\n",
        "        Roboter,opt,time =  (run_algorithm_with_parameters_sum(instance_name, algorithm, parameters) )\n",
        "        results += Roboter\n",
        "        Optimum += opt\n",
        "        Time += time\n",
        "\n",
        "    return results,Optimum,time\n",
        "\n",
        "\n",
        "def run_algorithms_with_parameters_on_instances_summarize (instance_names, algorithms_parameters):\n",
        "\n",
        "    results = 0\n",
        "    Optimum_gesamt = 0\n",
        "    Time = 0\n",
        "    for instance_name in instance_names:\n",
        "        result,Optimum,time = run_algorithms_with_parameters_summarize( instance_name, algorithms_parameters)\n",
        "        results += result\n",
        "        Optimum_gesamt += Optimum\n",
        "        Time += time\n",
        "    return results, Optimum_gesamt,Time\n",
        "\n",
        "Greedy_min_N = [( Gc_min_Neighbors, { \"start\" : 0 } )]\n",
        "Greedy_node_w = [( Gc_node_w, { \"start\" : 0} )]\n",
        "Multi_min_N = [( Graph_multi, {})]\n",
        "Multi_node_w = [( Graph_multi_node_w, {})]\n",
        "Rollout = [(Gc_rollout,{\"start\":0})]\n",
        "simplified =  [(Gc_simplified_min_n,{\"start\": 0})]\n",
        "simplified_node =  [( Gc_simplified_node_w,{\"start\": 0})]\n",
        "multi_Rollout = [ ( Graph_multi_rollout,{})]\n",
        "multi_simplified_min_n = [( Gm_simplified_min_n,{\"max_neighbors\": 3})]\n",
        "multi_simplified_node_w = [( Gm_simplified_node_w,{\"max_neighbors\": 3})]\n",
        "\n",
        "algo_parameter_liste = [Greedy_min_N,Greedy_node_w,Rollout,simplified,simplified_node,Multi_min_N,Multi_node_w,multi_Rollout,multi_simplified_min_n,multi_simplified_node_w]\n",
        "\n",
        "for i,algo_para in enumerate (algo_parameter_liste,start = 1):\n",
        "  Gesamt_klein,Optimum_klein,Zeit = run_algorithms_with_parameters_on_instances_summarize(verarbeite_ordner(ordner_klein),algo_para)\n",
        "  Gesamt_groß,Optimum_groß,Zeit = run_algorithms_with_parameters_on_instances_summarize(verarbeite_ordner(ordner_groß),algo_para)\n",
        "\n",
        "  print(f\"Durchlauf für{algo_para}\")\n",
        "  print(\"Kleine Instanz\")\n",
        "  print(f\"Gesamtmenge: {Gesamt_klein}, Optimum: {Optimum_klein},Zeit: {Zeit} Sekunden\")\n",
        "  print(\" \")\n",
        "  print(\"Große Instanz\")\n",
        "  print(f\"Gesamtmenge: {Gesamt_groß}, Optimum: {Optimum_groß},Zeit: {Zeit} Sekunden\")\n",
        "  print(\" \")"
      ]
    }
  ],
  "metadata": {
    "colab": {
      "collapsed_sections": [
        "FUjfNT4_4Zjl",
        "qPLO1p2Cuwnp",
        "h5oXdS7Qu6I5",
        "HTisSihImbLD"
      ],
      "provenance": []
    },
    "kernelspec": {
      "display_name": "Python 3",
      "name": "python3"
    },
    "language_info": {
      "name": "python"
    }
  },
  "nbformat": 4,
  "nbformat_minor": 0
}
